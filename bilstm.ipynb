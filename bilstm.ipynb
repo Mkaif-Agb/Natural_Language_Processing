{
 "metadata": {
  "language_info": {
   "codemirror_mode": {
    "name": "ipython",
    "version": 3
   },
   "file_extension": ".py",
   "mimetype": "text/x-python",
   "name": "python",
   "nbconvert_exporter": "python",
   "pygments_lexer": "ipython3",
   "version": "3.8.5"
  },
  "orig_nbformat": 2,
  "kernelspec": {
   "name": "python385jvsc74a57bd007efdcd4b820c98a756949507a4d29d7862823915ec7477944641bea022f4f62",
   "display_name": "Python 3.8.5 64-bit ('base': conda)"
  }
 },
 "nbformat": 4,
 "nbformat_minor": 2,
 "cells": [
  {
   "cell_type": "code",
   "execution_count": 1,
   "metadata": {},
   "outputs": [],
   "source": [
    "from keras.models import Model\n",
    "from keras.layers import Input, LSTM, GRU, Bidirectional\n",
    "import numpy as np\n",
    "import matplotlib.pyplot as plt"
   ]
  },
  {
   "cell_type": "code",
   "execution_count": 2,
   "metadata": {},
   "outputs": [],
   "source": [
    "try:\n",
    "  import keras.backend as K\n",
    "  if len(K.tensorflow_backend._get_available_gpus()) > 0:\n",
    "    from keras.layers import CuDNNLSTM as LSTM\n",
    "    from keras.layers import CuDNNGRU as GRU\n",
    "except:\n",
    "  pass"
   ]
  },
  {
   "cell_type": "code",
   "execution_count": 3,
   "metadata": {},
   "outputs": [],
   "source": [
    "T = 8\n",
    "D = 2\n",
    "M = 3"
   ]
  },
  {
   "cell_type": "code",
   "execution_count": 4,
   "metadata": {},
   "outputs": [],
   "source": [
    "X = np.random.randn(1, T, D)\n",
    "input_ = Input(shape=(T, D))\n",
    "# rnn = Bidirectional(LSTM(M, return_state=True, return_sequences=True))\n",
    "rnn = Bidirectional(LSTM(M, return_state=True, return_sequences=False))\n",
    "x = rnn(input_)"
   ]
  },
  {
   "cell_type": "code",
   "execution_count": 5,
   "metadata": {},
   "outputs": [
    {
     "output_type": "stream",
     "name": "stdout",
     "text": [
      "o: [[ 0.08611099 -0.07193948 -0.08586179  0.11293096  0.23163238 -0.02707469]]\no.shape: (1, 6)\nh1: [[ 0.08611099 -0.07193948 -0.08586179]]\nc1: [[ 0.20514499 -0.15562375 -0.12631385]]\nh2: [[ 0.11293096  0.23163238 -0.02707469]]\nc2: [[ 0.217475    0.522086   -0.05555757]]\n"
     ]
    }
   ],
   "source": [
    "model = Model(inputs=input_, outputs=x)\n",
    "o, h1, c1, h2, c2 = model.predict(X)\n",
    "print(\"o:\", o)\n",
    "print(\"o.shape:\", o.shape)\n",
    "print(\"h1:\", h1)\n",
    "print(\"c1:\", c1)\n",
    "print(\"h2:\", h2)\n",
    "print(\"c2:\", c2)"
   ]
  },
  {
   "cell_type": "code",
   "execution_count": 6,
   "metadata": {},
   "outputs": [],
   "source": [
    "X = np.random.randn(1, T, D)\n",
    "input_ = Input(shape=(T, D))\n",
    "rnn = Bidirectional(LSTM(M, return_state=True, return_sequences=True))\n",
    "# rnn = Bidirectional(LSTM(M, return_state=True, return_sequences=False))\n",
    "x = rnn(input_)"
   ]
  },
  {
   "cell_type": "code",
   "execution_count": 7,
   "metadata": {},
   "outputs": [
    {
     "output_type": "stream",
     "name": "stdout",
     "text": [
      "o: [[[ 0.04807445  0.03167877  0.00095577 -0.13300629 -0.00068109\n    0.05582025]\n  [ 0.09597661  0.01515866  0.1152501  -0.18823956 -0.00964844\n    0.0680267 ]\n  [ 0.18023382 -0.00232426  0.23144521 -0.10487089  0.00539293\n   -0.1254031 ]\n  [ 0.01617543 -0.02881158  0.12818928  0.03101048  0.07198145\n   -0.17840874]\n  [ 0.02474956 -0.11379318  0.18302079 -0.06190882 -0.00117488\n   -0.07359833]\n  [ 0.10930337 -0.02648352  0.13078037  0.18299797  0.07804018\n   -0.14960818]\n  [ 0.07485434 -0.03382331  0.03808701  0.07201269  0.04444601\n   -0.19125266]\n  [-0.02748629 -0.0784713  -0.02985857  0.03450314  0.03505285\n   -0.15920025]]]\no.shape: (1, 8, 6)\nh1: [[-0.02748629 -0.0784713  -0.02985857]]\nc1: [[-0.07451975 -0.13490428 -0.06166687]]\nh2: [[-0.13300629 -0.00068109  0.05582025]]\nc2: [[-0.2528337  -0.00129945  0.11681586]]\n"
     ]
    }
   ],
   "source": [
    "model = Model(inputs=input_, outputs=x)\n",
    "o, h1, c1, h2, c2 = model.predict(X)\n",
    "print(\"o:\", o)\n",
    "print(\"o.shape:\", o.shape)\n",
    "print(\"h1:\", h1)\n",
    "print(\"c1:\", c1)\n",
    "print(\"h2:\", h2)\n",
    "print(\"c2:\", c2)"
   ]
  },
  {
   "cell_type": "code",
   "execution_count": null,
   "metadata": {},
   "outputs": [],
   "source": []
  }
 ]
}