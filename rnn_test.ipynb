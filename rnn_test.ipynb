{
 "metadata": {
  "language_info": {
   "codemirror_mode": {
    "name": "ipython",
    "version": 3
   },
   "file_extension": ".py",
   "mimetype": "text/x-python",
   "name": "python",
   "nbconvert_exporter": "python",
   "pygments_lexer": "ipython3",
   "version": "3.8.5"
  },
  "orig_nbformat": 2,
  "kernelspec": {
   "name": "python385jvsc74a57bd007efdcd4b820c98a756949507a4d29d7862823915ec7477944641bea022f4f62",
   "display_name": "Python 3.8.5 64-bit ('base': conda)"
  }
 },
 "nbformat": 4,
 "nbformat_minor": 2,
 "cells": [
  {
   "cell_type": "code",
   "execution_count": 1,
   "metadata": {},
   "outputs": [],
   "source": [
    "from keras.models import Model\n",
    "from keras.layers import Input, LSTM, GRU\n",
    "import numpy as np\n",
    "import matplotlib.pyplot as plt"
   ]
  },
  {
   "cell_type": "code",
   "execution_count": 2,
   "metadata": {},
   "outputs": [],
   "source": [
    "try:\n",
    "  import keras.backend as K\n",
    "  if len(K.tensorflow_backend._get_available_gpus()) > 0:\n",
    "    from keras.layers import CuDNNLSTM as LSTM\n",
    "    from keras.layers import CuDNNGRU as GRU\n",
    "except:\n",
    "  pass"
   ]
  },
  {
   "cell_type": "code",
   "execution_count": 3,
   "metadata": {},
   "outputs": [],
   "source": [
    "T = 8\n",
    "D = 2\n",
    "M = 3\n",
    "X = np.random.randn(1, T, D)"
   ]
  },
  {
   "cell_type": "code",
   "execution_count": 5,
   "metadata": {},
   "outputs": [],
   "source": [
    "def lstm1():\n",
    "  input_ = Input(shape=(T, D))\n",
    "  rnn = LSTM(M, return_state=True)\n",
    "  x = rnn(input_)\n",
    "\n",
    "  model = Model(inputs=input_, outputs=x)\n",
    "  o, h, c = model.predict(X)\n",
    "  print(\"o:\", o)\n",
    "  print(\"h:\", h)\n",
    "  print(\"c:\", c)"
   ]
  },
  {
   "cell_type": "code",
   "execution_count": 4,
   "metadata": {},
   "outputs": [],
   "source": [
    "def lstm2():\n",
    "  input_ = Input(shape=(T, D))\n",
    "  rnn = LSTM(M, return_state=True, return_sequences=True)\n",
    "  # rnn = GRU(M, return_state=True)\n",
    "  x = rnn(input_)\n",
    "\n",
    "  model = Model(inputs=input_, outputs=x)\n",
    "  o, h, c = model.predict(X)\n",
    "  print(\"o:\", o)\n",
    "  print(\"h:\", h)\n",
    "  print(\"c:\", c)"
   ]
  },
  {
   "cell_type": "code",
   "execution_count": 6,
   "metadata": {},
   "outputs": [],
   "source": [
    "def gru1():\n",
    "  input_ = Input(shape=(T, D))\n",
    "  rnn = GRU(M, return_state=True)\n",
    "  x = rnn(input_)\n",
    "\n",
    "  model = Model(inputs=input_, outputs=x)\n",
    "  o, h = model.predict(X)\n",
    "  print(\"o:\", o)\n",
    "  print(\"h:\", h)"
   ]
  },
  {
   "cell_type": "code",
   "execution_count": 7,
   "metadata": {},
   "outputs": [],
   "source": [
    "def gru2():\n",
    "  input_ = Input(shape=(T, D))\n",
    "  rnn = GRU(M, return_state=True, return_sequences=True)\n",
    "  x = rnn(input_)\n",
    "\n",
    "  model = Model(inputs=input_, outputs=x)\n",
    "  o, h = model.predict(X)\n",
    "  print(\"o:\", o)\n",
    "  print(\"h:\", h)"
   ]
  },
  {
   "cell_type": "code",
   "execution_count": 8,
   "metadata": {},
   "outputs": [
    {
     "output_type": "stream",
     "name": "stdout",
     "text": [
      "lstm1:\n",
      "o: [[-0.04634568 -0.24632916  0.16547537]]\n",
      "h: [[-0.04634568 -0.24632916  0.16547537]]\n",
      "c: [[-0.11470257 -0.5127182   0.43763816]]\n",
      "lstm2:\n",
      "o: [[[ 0.03518438 -0.09564848 -0.18087968]\n",
      "  [ 0.07648514 -0.10668113 -0.23878014]\n",
      "  [ 0.06359713 -0.22380613 -0.17309335]\n",
      "  [ 0.05865982 -0.22219503 -0.17065279]\n",
      "  [ 0.02365636 -0.13207385 -0.08748368]\n",
      "  [-0.01816387  0.01292667  0.06137877]\n",
      "  [-0.03318233  0.01575479  0.13983685]\n",
      "  [-0.06528048  0.15393232  0.21760711]]]\n",
      "h: [[-0.06528048  0.15393232  0.21760711]]\n",
      "c: [[-0.12588961  0.24542606  0.49227926]]\n",
      "gru1:\n",
      "o: [[ 0.09764599 -0.01560204 -0.02160428]]\n",
      "h: [[ 0.09764599 -0.01560204 -0.02160428]]\n",
      "gru2:\n",
      "o: [[[-7.6937623e-02  1.6142216e-01 -4.7158368e-02]\n",
      "  [-3.6489528e-01  2.9570019e-01  1.9905674e-01]\n",
      "  [-1.1167477e-01  1.7655867e-01  9.8255411e-02]\n",
      "  [ 2.6206428e-01 -9.0722837e-02 -1.3905734e-01]\n",
      "  [-3.5534924e-04  9.7891085e-02  2.5586945e-01]\n",
      "  [ 2.1725178e-01 -3.2570031e-01 -1.1598748e-02]\n",
      "  [ 3.3343086e-01 -4.7246063e-01 -2.3159818e-01]\n",
      "  [ 3.4429568e-01 -6.0312736e-01 -3.2383308e-01]]]\n",
      "h: [[ 0.34429568 -0.60312736 -0.32383308]]\n"
     ]
    }
   ],
   "source": [
    "print(\"lstm1:\")\n",
    "lstm1()\n",
    "print(\"lstm2:\")\n",
    "lstm2()\n",
    "print(\"gru1:\")\n",
    "gru1()\n",
    "print(\"gru2:\")\n",
    "gru2()"
   ]
  },
  {
   "cell_type": "code",
   "execution_count": null,
   "metadata": {},
   "outputs": [],
   "source": []
  }
 ]
}